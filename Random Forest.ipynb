{
 "cells": [
  {
   "cell_type": "markdown",
   "id": "27e2e3dd",
   "metadata": {},
   "source": [
    "## Machine Learning - Random Forest"
   ]
  },
  {
   "cell_type": "markdown",
   "id": "b83ed172",
   "metadata": {},
   "source": [
    "Reto de clasificación de machine learning en el que dado un dataset hay que realizar un modelo predictivo empleando random forest.\n",
    "\n",
    "✅ Task 1 → Análisis exploratorio\n",
    "\n",
    "✅ Task 2 → Predicción empleando Random Forest\n"
   ]
  },
  {
   "cell_type": "markdown",
   "id": "d646b17c",
   "metadata": {},
   "source": [
    "**Roadmap**\n",
    "\n",
    "Antes de lanzarnos de lleno a la programación, deberíamos trazar una breve guía para mantenernos en el camino. Los siguientes pasos constituyen la base de cualquier flujo de trabajo de aprendizaje automático una vez que tenemos un problema y un modelo en mente:\n",
    "\n",
    "* 1) Plantear la pregunta y determinar los datos necesarios\n",
    "* 2) Adquirir los datos en un formato accesible\n",
    "* 3) Identificar y corregir los puntos de datos/anomalías que faltan, según sea necesario\n",
    "* 4) Preparar los datos para el modelo de aprendizaje automático\n",
    "* 5) Establecer un punto de referencia que se pretende superar (en el caso de clasificación sería obtener un alto nivel de presición)\n",
    "* 6) Entrenar el modelo con los datos de entrenamiento\n",
    "* 7) Hacer predicciones con los datos de prueba\n",
    "* 8) Comparar las predicciones con los objetivos conocidos del conjunto de pruebas y calcular las métricas de rendimiento\n",
    "* 9) Si el rendimiento no es satisfactorio, ajustar el modelo, adquiera más datos o pruebe otra técnica de modelización.\n",
    "* 10) Interpretar el modelo y comunicar los resultados de forma visual y numérica"
   ]
  },
  {
   "cell_type": "code",
   "execution_count": 2,
   "id": "07d09631",
   "metadata": {},
   "outputs": [],
   "source": [
    "import pandas as pd\n",
    "import numpy as np\n",
    "import matplotlib.pyplot as plt"
   ]
  },
  {
   "cell_type": "code",
   "execution_count": 3,
   "id": "fa5d23bf",
   "metadata": {},
   "outputs": [],
   "source": [
    "df = pd.read_csv(\"../../Practice/1-Random Forest/Data Sets/j0002_train.csv\")"
   ]
  },
  {
   "cell_type": "markdown",
   "id": "d5ca528c",
   "metadata": {},
   "source": [
    "✅ **Task 1** → Análisis exploratorio"
   ]
  },
  {
   "cell_type": "markdown",
   "id": "eefb263a",
   "metadata": {},
   "source": [
    "1) Leemos data frame, verificamos con head y tail el inicio y final del dataframe."
   ]
  },
  {
   "cell_type": "code",
   "execution_count": 4,
   "id": "49dc7faa",
   "metadata": {},
   "outputs": [
    {
     "data": {
      "text/html": [
       "<div>\n",
       "<style scoped>\n",
       "    .dataframe tbody tr th:only-of-type {\n",
       "        vertical-align: middle;\n",
       "    }\n",
       "\n",
       "    .dataframe tbody tr th {\n",
       "        vertical-align: top;\n",
       "    }\n",
       "\n",
       "    .dataframe thead th {\n",
       "        text-align: right;\n",
       "    }\n",
       "</style>\n",
       "<table border=\"1\" class=\"dataframe\">\n",
       "  <thead>\n",
       "    <tr style=\"text-align: right;\">\n",
       "      <th></th>\n",
       "      <th>feature1</th>\n",
       "      <th>feature2</th>\n",
       "      <th>feature3</th>\n",
       "      <th>feature4</th>\n",
       "      <th>feature5</th>\n",
       "      <th>feature6</th>\n",
       "      <th>target</th>\n",
       "    </tr>\n",
       "  </thead>\n",
       "  <tbody>\n",
       "    <tr>\n",
       "      <th>0</th>\n",
       "      <td>0.474335</td>\n",
       "      <td>0.881640</td>\n",
       "      <td>-2.050543</td>\n",
       "      <td>-1.251935</td>\n",
       "      <td>-1.035151</td>\n",
       "      <td>-1.934367</td>\n",
       "      <td>4</td>\n",
       "    </tr>\n",
       "    <tr>\n",
       "      <th>1</th>\n",
       "      <td>-1.034675</td>\n",
       "      <td>1.741801</td>\n",
       "      <td>-1.660629</td>\n",
       "      <td>-1.555989</td>\n",
       "      <td>-0.337553</td>\n",
       "      <td>-2.473838</td>\n",
       "      <td>0</td>\n",
       "    </tr>\n",
       "    <tr>\n",
       "      <th>2</th>\n",
       "      <td>-0.563221</td>\n",
       "      <td>-0.688381</td>\n",
       "      <td>-0.318415</td>\n",
       "      <td>-1.845172</td>\n",
       "      <td>0.352366</td>\n",
       "      <td>-0.912928</td>\n",
       "      <td>1</td>\n",
       "    </tr>\n",
       "    <tr>\n",
       "      <th>3</th>\n",
       "      <td>-1.268179</td>\n",
       "      <td>2.770688</td>\n",
       "      <td>1.054193</td>\n",
       "      <td>2.830389</td>\n",
       "      <td>0.395093</td>\n",
       "      <td>0.677715</td>\n",
       "      <td>3</td>\n",
       "    </tr>\n",
       "    <tr>\n",
       "      <th>4</th>\n",
       "      <td>-1.216380</td>\n",
       "      <td>-0.391267</td>\n",
       "      <td>-2.898931</td>\n",
       "      <td>-0.913074</td>\n",
       "      <td>-2.171857</td>\n",
       "      <td>-2.367490</td>\n",
       "      <td>0</td>\n",
       "    </tr>\n",
       "  </tbody>\n",
       "</table>\n",
       "</div>"
      ],
      "text/plain": [
       "   feature1  feature2  feature3  feature4  feature5  feature6  target\n",
       "0  0.474335  0.881640 -2.050543 -1.251935 -1.035151 -1.934367       4\n",
       "1 -1.034675  1.741801 -1.660629 -1.555989 -0.337553 -2.473838       0\n",
       "2 -0.563221 -0.688381 -0.318415 -1.845172  0.352366 -0.912928       1\n",
       "3 -1.268179  2.770688  1.054193  2.830389  0.395093  0.677715       3\n",
       "4 -1.216380 -0.391267 -2.898931 -0.913074 -2.171857 -2.367490       0"
      ]
     },
     "execution_count": 4,
     "metadata": {},
     "output_type": "execute_result"
    }
   ],
   "source": [
    "df.head()"
   ]
  },
  {
   "cell_type": "code",
   "execution_count": 5,
   "id": "1a9921bc",
   "metadata": {},
   "outputs": [
    {
     "data": {
      "text/html": [
       "<div>\n",
       "<style scoped>\n",
       "    .dataframe tbody tr th:only-of-type {\n",
       "        vertical-align: middle;\n",
       "    }\n",
       "\n",
       "    .dataframe tbody tr th {\n",
       "        vertical-align: top;\n",
       "    }\n",
       "\n",
       "    .dataframe thead th {\n",
       "        text-align: right;\n",
       "    }\n",
       "</style>\n",
       "<table border=\"1\" class=\"dataframe\">\n",
       "  <thead>\n",
       "    <tr style=\"text-align: right;\">\n",
       "      <th></th>\n",
       "      <th>feature1</th>\n",
       "      <th>feature2</th>\n",
       "      <th>feature3</th>\n",
       "      <th>feature4</th>\n",
       "      <th>feature5</th>\n",
       "      <th>feature6</th>\n",
       "      <th>target</th>\n",
       "    </tr>\n",
       "  </thead>\n",
       "  <tbody>\n",
       "    <tr>\n",
       "      <th>2095</th>\n",
       "      <td>-0.947002</td>\n",
       "      <td>0.174969</td>\n",
       "      <td>-0.180249</td>\n",
       "      <td>0.118236</td>\n",
       "      <td>-0.143420</td>\n",
       "      <td>-0.359509</td>\n",
       "      <td>0</td>\n",
       "    </tr>\n",
       "    <tr>\n",
       "      <th>2096</th>\n",
       "      <td>-1.224148</td>\n",
       "      <td>0.029956</td>\n",
       "      <td>0.536684</td>\n",
       "      <td>0.888406</td>\n",
       "      <td>0.119460</td>\n",
       "      <td>0.378946</td>\n",
       "      <td>1</td>\n",
       "    </tr>\n",
       "    <tr>\n",
       "      <th>2097</th>\n",
       "      <td>-0.847593</td>\n",
       "      <td>1.538574</td>\n",
       "      <td>0.962409</td>\n",
       "      <td>1.966467</td>\n",
       "      <td>0.379934</td>\n",
       "      <td>0.737907</td>\n",
       "      <td>3</td>\n",
       "    </tr>\n",
       "    <tr>\n",
       "      <th>2098</th>\n",
       "      <td>1.472437</td>\n",
       "      <td>1.187695</td>\n",
       "      <td>1.015766</td>\n",
       "      <td>-1.103522</td>\n",
       "      <td>1.586722</td>\n",
       "      <td>0.182569</td>\n",
       "      <td>4</td>\n",
       "    </tr>\n",
       "    <tr>\n",
       "      <th>2099</th>\n",
       "      <td>-0.083489</td>\n",
       "      <td>-1.194784</td>\n",
       "      <td>-0.389204</td>\n",
       "      <td>-2.369081</td>\n",
       "      <td>0.382413</td>\n",
       "      <td>-0.900237</td>\n",
       "      <td>3</td>\n",
       "    </tr>\n",
       "  </tbody>\n",
       "</table>\n",
       "</div>"
      ],
      "text/plain": [
       "      feature1  feature2  feature3  feature4  feature5  feature6  target\n",
       "2095 -0.947002  0.174969 -0.180249  0.118236 -0.143420 -0.359509       0\n",
       "2096 -1.224148  0.029956  0.536684  0.888406  0.119460  0.378946       1\n",
       "2097 -0.847593  1.538574  0.962409  1.966467  0.379934  0.737907       3\n",
       "2098  1.472437  1.187695  1.015766 -1.103522  1.586722  0.182569       4\n",
       "2099 -0.083489 -1.194784 -0.389204 -2.369081  0.382413 -0.900237       3"
      ]
     },
     "execution_count": 5,
     "metadata": {},
     "output_type": "execute_result"
    }
   ],
   "source": [
    "df.tail()"
   ]
  },
  {
   "cell_type": "code",
   "execution_count": 6,
   "id": "c6e1b971",
   "metadata": {},
   "outputs": [
    {
     "data": {
      "text/plain": [
       "(array([427.,   0., 423.,   0.,   0., 419.,   0., 426.,   0., 405.]),\n",
       " array([0. , 0.4, 0.8, 1.2, 1.6, 2. , 2.4, 2.8, 3.2, 3.6, 4. ]),\n",
       " <BarContainer object of 10 artists>)"
      ]
     },
     "execution_count": 6,
     "metadata": {},
     "output_type": "execute_result"
    },
    {
     "data": {
      "image/png": "[encoded data removed]",
      "text/plain": [
       "<Figure size 432x288 with 1 Axes>"
      ]
     },
     "metadata": {
      "needs_background": "light"
     },
     "output_type": "display_data"
    }
   ],
   "source": [
    "plt.hist(df.target)"
   ]
  },
  {
   "cell_type": "code",
   "execution_count": 7,
   "id": "af37e574",
   "metadata": {},
   "outputs": [
    {
     "data": {
      "text/plain": [
       "array([4, 0, 1, 3, 2], dtype=int64)"
      ]
     },
     "execution_count": 7,
     "metadata": {},
     "output_type": "execute_result"
    }
   ],
   "source": [
    "df.target.unique()"
   ]
  },
  {
   "cell_type": "markdown",
   "id": "0598c001",
   "metadata": {},
   "source": [
    "Hay 5 características diferentes, distribuidas uniformemente."
   ]
  },
  {
   "cell_type": "markdown",
   "id": "e9ad6bfb",
   "metadata": {},
   "source": [
    "### Identificar las anomalías/los datos que faltan"
   ]
  },
  {
   "cell_type": "code",
   "execution_count": 10,
   "id": "fe0fbbd6",
   "metadata": {},
   "outputs": [
    {
     "name": "stdout",
     "output_type": "stream",
     "text": [
      "The shape of our features is: (2100, 7)\n"
     ]
    }
   ],
   "source": [
    "print('The shape of our features is:', df.shape)"
   ]
  },
  {
   "cell_type": "code",
   "execution_count": 11,
   "id": "b55550ae",
   "metadata": {},
   "outputs": [
    {
     "data": {
      "text/html": [
       "<div>\n",
       "<style scoped>\n",
       "    .dataframe tbody tr th:only-of-type {\n",
       "        vertical-align: middle;\n",
       "    }\n",
       "\n",
       "    .dataframe tbody tr th {\n",
       "        vertical-align: top;\n",
       "    }\n",
       "\n",
       "    .dataframe thead th {\n",
       "        text-align: right;\n",
       "    }\n",
       "</style>\n",
       "<table border=\"1\" class=\"dataframe\">\n",
       "  <thead>\n",
       "    <tr style=\"text-align: right;\">\n",
       "      <th></th>\n",
       "      <th>feature1</th>\n",
       "      <th>feature2</th>\n",
       "      <th>feature3</th>\n",
       "      <th>feature4</th>\n",
       "      <th>feature5</th>\n",
       "      <th>feature6</th>\n",
       "      <th>target</th>\n",
       "    </tr>\n",
       "  </thead>\n",
       "  <tbody>\n",
       "    <tr>\n",
       "      <th>count</th>\n",
       "      <td>2100.000000</td>\n",
       "      <td>2100.000000</td>\n",
       "      <td>2100.000000</td>\n",
       "      <td>2100.000000</td>\n",
       "      <td>2100.000000</td>\n",
       "      <td>2100.000000</td>\n",
       "      <td>2100.000000</td>\n",
       "    </tr>\n",
       "    <tr>\n",
       "      <th>mean</th>\n",
       "      <td>-0.204656</td>\n",
       "      <td>0.199249</td>\n",
       "      <td>-0.378140</td>\n",
       "      <td>-0.206425</td>\n",
       "      <td>-0.186419</td>\n",
       "      <td>-0.433229</td>\n",
       "      <td>1.980476</td>\n",
       "    </tr>\n",
       "    <tr>\n",
       "      <th>std</th>\n",
       "      <td>1.543613</td>\n",
       "      <td>1.614024</td>\n",
       "      <td>1.450548</td>\n",
       "      <td>1.442225</td>\n",
       "      <td>1.501573</td>\n",
       "      <td>1.188791</td>\n",
       "      <td>1.410537</td>\n",
       "    </tr>\n",
       "    <tr>\n",
       "      <th>min</th>\n",
       "      <td>-6.683655</td>\n",
       "      <td>-5.383371</td>\n",
       "      <td>-6.147055</td>\n",
       "      <td>-5.653594</td>\n",
       "      <td>-5.912521</td>\n",
       "      <td>-4.433189</td>\n",
       "      <td>0.000000</td>\n",
       "    </tr>\n",
       "    <tr>\n",
       "      <th>25%</th>\n",
       "      <td>-1.171340</td>\n",
       "      <td>-0.877386</td>\n",
       "      <td>-1.365990</td>\n",
       "      <td>-1.259403</td>\n",
       "      <td>-1.211685</td>\n",
       "      <td>-1.131944</td>\n",
       "      <td>1.000000</td>\n",
       "    </tr>\n",
       "    <tr>\n",
       "      <th>50%</th>\n",
       "      <td>-0.443868</td>\n",
       "      <td>0.320507</td>\n",
       "      <td>-0.439745</td>\n",
       "      <td>-0.176504</td>\n",
       "      <td>-0.195751</td>\n",
       "      <td>-0.406754</td>\n",
       "      <td>2.000000</td>\n",
       "    </tr>\n",
       "    <tr>\n",
       "      <th>75%</th>\n",
       "      <td>0.890023</td>\n",
       "      <td>1.321430</td>\n",
       "      <td>0.662898</td>\n",
       "      <td>0.866879</td>\n",
       "      <td>0.851843</td>\n",
       "      <td>0.348593</td>\n",
       "      <td>3.000000</td>\n",
       "    </tr>\n",
       "    <tr>\n",
       "      <th>max</th>\n",
       "      <td>4.565547</td>\n",
       "      <td>6.700133</td>\n",
       "      <td>4.157518</td>\n",
       "      <td>4.371912</td>\n",
       "      <td>5.068783</td>\n",
       "      <td>4.016324</td>\n",
       "      <td>4.000000</td>\n",
       "    </tr>\n",
       "  </tbody>\n",
       "</table>\n",
       "</div>"
      ],
      "text/plain": [
       "          feature1     feature2     feature3     feature4     feature5  \\\n",
       "count  2100.000000  2100.000000  2100.000000  2100.000000  2100.000000   \n",
       "mean     -0.204656     0.199249    -0.378140    -0.206425    -0.186419   \n",
       "std       1.543613     1.614024     1.450548     1.442225     1.501573   \n",
       "min      -6.683655    -5.383371    -6.147055    -5.653594    -5.912521   \n",
       "25%      -1.171340    -0.877386    -1.365990    -1.259403    -1.211685   \n",
       "50%      -0.443868     0.320507    -0.439745    -0.176504    -0.195751   \n",
       "75%       0.890023     1.321430     0.662898     0.866879     0.851843   \n",
       "max       4.565547     6.700133     4.157518     4.371912     5.068783   \n",
       "\n",
       "          feature6       target  \n",
       "count  2100.000000  2100.000000  \n",
       "mean     -0.433229     1.980476  \n",
       "std       1.188791     1.410537  \n",
       "min      -4.433189     0.000000  \n",
       "25%      -1.131944     1.000000  \n",
       "50%      -0.406754     2.000000  \n",
       "75%       0.348593     3.000000  \n",
       "max       4.016324     4.000000  "
      ]
     },
     "execution_count": 11,
     "metadata": {},
     "output_type": "execute_result"
    }
   ],
   "source": [
    "df.describe()"
   ]
  },
  {
   "cell_type": "markdown",
   "id": "916f2721",
   "metadata": {},
   "source": [
    "No hay puntos de datos que aparezcan inmediatamente como anómalos y no hay ceros en ninguna de las columnas de medición. Y otro hecho importante es que no hay ninguna variable categórica, por lo que, no hay necesidad de hacer ningún conjunto de datos dummie."
   ]
  },
  {
   "cell_type": "code",
   "execution_count": 12,
   "id": "fc0cbda3",
   "metadata": {},
   "outputs": [],
   "source": [
    "colnames = df.columns.values.tolist()"
   ]
  },
  {
   "cell_type": "code",
   "execution_count": 13,
   "id": "78924683",
   "metadata": {},
   "outputs": [],
   "source": [
    "df_features=df[colnames[:6]]"
   ]
  },
  {
   "cell_type": "markdown",
   "id": "efd4a472",
   "metadata": {},
   "source": [
    "## Random Forest Classification"
   ]
  },
  {
   "cell_type": "code",
   "execution_count": 54,
   "id": "7113d681",
   "metadata": {},
   "outputs": [],
   "source": [
    "#Dividir el conjunto de datos en partes de entrenamiento y de prueba de forma aleatoria.\n",
    "#Utilizamos el método de numpy random.uniform, para seleccionar aleatoriamente estos conjuntos.\n",
    "#Generaremos una columna auxiliar en el dataset,  con el 80% true y el 20% false, (entrenamiento y testing)\n",
    "df[\"is_train\"] = np.random.uniform(0,1,len(df))<0.8"
   ]
  },
  {
   "cell_type": "code",
   "execution_count": 55,
   "id": "3910b071",
   "metadata": {},
   "outputs": [
    {
     "data": {
      "text/html": [
       "<div>\n",
       "<style scoped>\n",
       "    .dataframe tbody tr th:only-of-type {\n",
       "        vertical-align: middle;\n",
       "    }\n",
       "\n",
       "    .dataframe tbody tr th {\n",
       "        vertical-align: top;\n",
       "    }\n",
       "\n",
       "    .dataframe thead th {\n",
       "        text-align: right;\n",
       "    }\n",
       "</style>\n",
       "<table border=\"1\" class=\"dataframe\">\n",
       "  <thead>\n",
       "    <tr style=\"text-align: right;\">\n",
       "      <th></th>\n",
       "      <th>feature1</th>\n",
       "      <th>feature2</th>\n",
       "      <th>feature3</th>\n",
       "      <th>feature4</th>\n",
       "      <th>feature5</th>\n",
       "      <th>feature6</th>\n",
       "      <th>target</th>\n",
       "      <th>is_train</th>\n",
       "    </tr>\n",
       "  </thead>\n",
       "  <tbody>\n",
       "    <tr>\n",
       "      <th>0</th>\n",
       "      <td>0.474335</td>\n",
       "      <td>0.881640</td>\n",
       "      <td>-2.050543</td>\n",
       "      <td>-1.251935</td>\n",
       "      <td>-1.035151</td>\n",
       "      <td>-1.934367</td>\n",
       "      <td>4</td>\n",
       "      <td>True</td>\n",
       "    </tr>\n",
       "    <tr>\n",
       "      <th>1</th>\n",
       "      <td>-1.034675</td>\n",
       "      <td>1.741801</td>\n",
       "      <td>-1.660629</td>\n",
       "      <td>-1.555989</td>\n",
       "      <td>-0.337553</td>\n",
       "      <td>-2.473838</td>\n",
       "      <td>0</td>\n",
       "      <td>True</td>\n",
       "    </tr>\n",
       "    <tr>\n",
       "      <th>2</th>\n",
       "      <td>-0.563221</td>\n",
       "      <td>-0.688381</td>\n",
       "      <td>-0.318415</td>\n",
       "      <td>-1.845172</td>\n",
       "      <td>0.352366</td>\n",
       "      <td>-0.912928</td>\n",
       "      <td>1</td>\n",
       "      <td>True</td>\n",
       "    </tr>\n",
       "    <tr>\n",
       "      <th>3</th>\n",
       "      <td>-1.268179</td>\n",
       "      <td>2.770688</td>\n",
       "      <td>1.054193</td>\n",
       "      <td>2.830389</td>\n",
       "      <td>0.395093</td>\n",
       "      <td>0.677715</td>\n",
       "      <td>3</td>\n",
       "      <td>True</td>\n",
       "    </tr>\n",
       "    <tr>\n",
       "      <th>4</th>\n",
       "      <td>-1.216380</td>\n",
       "      <td>-0.391267</td>\n",
       "      <td>-2.898931</td>\n",
       "      <td>-0.913074</td>\n",
       "      <td>-2.171857</td>\n",
       "      <td>-2.367490</td>\n",
       "      <td>0</td>\n",
       "      <td>False</td>\n",
       "    </tr>\n",
       "  </tbody>\n",
       "</table>\n",
       "</div>"
      ],
      "text/plain": [
       "   feature1  feature2  feature3  feature4  feature5  feature6  target  \\\n",
       "0  0.474335  0.881640 -2.050543 -1.251935 -1.035151 -1.934367       4   \n",
       "1 -1.034675  1.741801 -1.660629 -1.555989 -0.337553 -2.473838       0   \n",
       "2 -0.563221 -0.688381 -0.318415 -1.845172  0.352366 -0.912928       1   \n",
       "3 -1.268179  2.770688  1.054193  2.830389  0.395093  0.677715       3   \n",
       "4 -1.216380 -0.391267 -2.898931 -0.913074 -2.171857 -2.367490       0   \n",
       "\n",
       "   is_train  \n",
       "0      True  \n",
       "1      True  \n",
       "2      True  \n",
       "3      True  \n",
       "4     False  "
      ]
     },
     "execution_count": 55,
     "metadata": {},
     "output_type": "execute_result"
    }
   ],
   "source": [
    "df.head()"
   ]
  },
  {
   "cell_type": "code",
   "execution_count": 56,
   "id": "12858da7",
   "metadata": {},
   "outputs": [
    {
     "data": {
      "text/plain": [
       "(array([ 425.,    0.,    0.,    0.,    0.,    0.,    0.,    0.,    0.,\n",
       "        1675.]),\n",
       " array([0. , 0.1, 0.2, 0.3, 0.4, 0.5, 0.6, 0.7, 0.8, 0.9, 1. ],\n",
       "       dtype=float32),\n",
       " <BarContainer object of 10 artists>)"
      ]
     },
     "execution_count": 56,
     "metadata": {},
     "output_type": "execute_result"
    },
    {
     "data": {
      "image/png": "[encoded data removed]",
      "text/plain": [
       "<Figure size 432x288 with 1 Axes>"
      ]
     },
     "metadata": {
      "needs_background": "light"
     },
     "output_type": "display_data"
    }
   ],
   "source": [
    "#With this plot, we can see how the data is splited, 0.8 true and 0.2 false.\n",
    "plt.hist(df.is_train.astype(np.float32))"
   ]
  },
  {
   "cell_type": "markdown",
   "id": "d64aefe5",
   "metadata": {},
   "source": [
    "Observamos gráficamente como hay aproximadamente 1600 datos en *true* y otros 400 en *false* que indica la división del training vs testing."
   ]
  },
  {
   "cell_type": "code",
   "execution_count": 57,
   "id": "7687ee41",
   "metadata": {},
   "outputs": [],
   "source": [
    "train, test = df[df[\"is_train\"]==True], df[df[\"is_train\"]==False]"
   ]
  },
  {
   "cell_type": "code",
   "execution_count": 58,
   "id": "6a1c4904",
   "metadata": {},
   "outputs": [],
   "source": [
    "predictors = colnames[:6]\n",
    "target = colnames[6]"
   ]
  },
  {
   "cell_type": "code",
   "execution_count": 59,
   "id": "8c4b9576",
   "metadata": {},
   "outputs": [
    {
     "data": {
      "text/plain": [
       "(['feature1', 'feature2', 'feature3', 'feature4', 'feature5', 'feature6'],\n",
       " 'target')"
      ]
     },
     "execution_count": 59,
     "metadata": {},
     "output_type": "execute_result"
    }
   ],
   "source": [
    "predictors, target #Observamos que se hallan seleccionado correctamente las columnas X e Y"
   ]
  },
  {
   "cell_type": "code",
   "execution_count": 60,
   "id": "cbe90b1a",
   "metadata": {},
   "outputs": [],
   "source": [
    "def RandomForestClassifier(rang, jump):\n",
    "    from sklearn.ensemble import RandomForestClassifier\n",
    "    score=[]\n",
    "    for i in range (100, rang, jump):\n",
    "        forest = RandomForestClassifier(n_jobs=2, oob_score=True, n_estimators=i, random_state=i)\n",
    "        forest.fit(train[predictors],train[target])\n",
    "        print (\"El bosque de clasificación aleatorio con \", i, \" bosques, tiene un un Score de: %0.3f\" %forest.oob_score_)\n",
    "        score.append(np.round(forest.oob_score_,3))\n",
    "    plt.plot(range(100,rang,jump), score, \"ro-\")\n",
    "    plt.xlabel(\"N° árboles en bosque\")\n",
    "    plt.ylabel(\"Score obtenido\")\n",
    "    plt.title(\"Score respeco a árboles\")\n",
    "    plt.figure(figsize=(8,4))\n",
    "    plt.show()\n",
    "    print (\"El promedio de presición obtenido es %0.3f\" %np.mean(score))\n",
    "    return(forest)"
   ]
  },
  {
   "cell_type": "code",
   "execution_count": 61,
   "id": "f7e40599",
   "metadata": {},
   "outputs": [
    {
     "name": "stdout",
     "output_type": "stream",
     "text": [
      "El bosque de clasificación aleatorio con  100  bosques, tiene un un Score de: 0.762\n",
      "El bosque de clasificación aleatorio con  200  bosques, tiene un un Score de: 0.770\n",
      "El bosque de clasificación aleatorio con  300  bosques, tiene un un Score de: 0.771\n",
      "El bosque de clasificación aleatorio con  400  bosques, tiene un un Score de: 0.776\n",
      "El bosque de clasificación aleatorio con  500  bosques, tiene un un Score de: 0.767\n",
      "El bosque de clasificación aleatorio con  600  bosques, tiene un un Score de: 0.767\n",
      "El bosque de clasificación aleatorio con  700  bosques, tiene un un Score de: 0.774\n",
      "El bosque de clasificación aleatorio con  800  bosques, tiene un un Score de: 0.777\n",
      "El bosque de clasificación aleatorio con  900  bosques, tiene un un Score de: 0.773\n",
      "El bosque de clasificación aleatorio con  1000  bosques, tiene un un Score de: 0.773\n",
      "El bosque de clasificación aleatorio con  1100  bosques, tiene un un Score de: 0.777\n",
      "El bosque de clasificación aleatorio con  1200  bosques, tiene un un Score de: 0.773\n",
      "El bosque de clasificación aleatorio con  1300  bosques, tiene un un Score de: 0.774\n"
     ]
    },
    {
     "data": {
      "image/png": "[encoded data removed]",
      "text/plain": [
       "<Figure size 432x288 with 1 Axes>"
      ]
     },
     "metadata": {
      "needs_background": "light"
     },
     "output_type": "display_data"
    },
    {
     "data": {
      "text/plain": [
       "<Figure size 576x288 with 0 Axes>"
      ]
     },
     "metadata": {},
     "output_type": "display_data"
    },
    {
     "name": "stdout",
     "output_type": "stream",
     "text": [
      "El promedio de presición obtenido es 0.772\n"
     ]
    }
   ],
   "source": [
    "forest = RandomForestClassifier(1400, 100) #(Límite máximo de árboles y cantidad que añadirá por iteración)"
   ]
  },
  {
   "cell_type": "code",
   "execution_count": 63,
   "id": "0284ec33",
   "metadata": {},
   "outputs": [
    {
     "name": "stdout",
     "output_type": "stream",
     "text": [
      "La presición final del modelo es de 0.774\n"
     ]
    }
   ],
   "source": [
    "print(\"La presición final del modelo es de %0.3f\" %forest.oob_score_)"
   ]
  },
  {
   "cell_type": "markdown",
   "id": "c6134aa8",
   "metadata": {},
   "source": [
    "## Random Forest Predictions\n",
    "\n",
    "✅ Task 2 → Predicción empleando Random Forest\n",
    "\n",
    "En primer lugar, queremos asegurarnos de que el modelo puede predecir en la parte de prueba del conjunto de datos, antes de cargar el conjunto de prueba."
   ]
  },
  {
   "cell_type": "markdown",
   "id": "20c4cc9d",
   "metadata": {},
   "source": [
    "En el 20% de **testing** tenemos las siguientes cantidades por conjunto:"
   ]
  },
  {
   "cell_type": "code",
   "execution_count": 80,
   "id": "86ce0192",
   "metadata": {},
   "outputs": [
    {
     "data": {
      "text/plain": [
       "{0: 93, 1: 98, 2: 87, 3: 65, 4: 82}"
      ]
     },
     "execution_count": 80,
     "metadata": {},
     "output_type": "execute_result"
    }
   ],
   "source": [
    "unique, counts = np.unique(test[target], return_counts=True)\n",
    "dict(zip(unique, counts))"
   ]
  },
  {
   "cell_type": "markdown",
   "id": "6fdab82b",
   "metadata": {},
   "source": [
    "La predicción para dicho 20% de **testing** es:"
   ]
  },
  {
   "cell_type": "code",
   "execution_count": 81,
   "id": "1e20bca5",
   "metadata": {},
   "outputs": [
    {
     "data": {
      "text/plain": [
       "{0: 93, 1: 86, 2: 85, 3: 77, 4: 84}"
      ]
     },
     "execution_count": 81,
     "metadata": {},
     "output_type": "execute_result"
    }
   ],
   "source": [
    "preds = forest.predict(test[predictors])\n",
    "unique, counts = np.unique(preds, return_counts=True)\n",
    "dict(zip(unique, counts))"
   ]
  },
  {
   "cell_type": "code",
   "execution_count": 82,
   "id": "bbbaefe4",
   "metadata": {},
   "outputs": [
    {
     "data": {
      "text/html": [
       "<div>\n",
       "<style scoped>\n",
       "    .dataframe tbody tr th:only-of-type {\n",
       "        vertical-align: middle;\n",
       "    }\n",
       "\n",
       "    .dataframe tbody tr th {\n",
       "        vertical-align: top;\n",
       "    }\n",
       "\n",
       "    .dataframe thead th {\n",
       "        text-align: right;\n",
       "    }\n",
       "</style>\n",
       "<table border=\"1\" class=\"dataframe\">\n",
       "  <thead>\n",
       "    <tr style=\"text-align: right;\">\n",
       "      <th>Predictions</th>\n",
       "      <th>0</th>\n",
       "      <th>1</th>\n",
       "      <th>2</th>\n",
       "      <th>3</th>\n",
       "      <th>4</th>\n",
       "    </tr>\n",
       "    <tr>\n",
       "      <th>Actual</th>\n",
       "      <th></th>\n",
       "      <th></th>\n",
       "      <th></th>\n",
       "      <th></th>\n",
       "      <th></th>\n",
       "    </tr>\n",
       "  </thead>\n",
       "  <tbody>\n",
       "    <tr>\n",
       "      <th>0</th>\n",
       "      <td>80</td>\n",
       "      <td>5</td>\n",
       "      <td>6</td>\n",
       "      <td>2</td>\n",
       "      <td>0</td>\n",
       "    </tr>\n",
       "    <tr>\n",
       "      <th>1</th>\n",
       "      <td>5</td>\n",
       "      <td>74</td>\n",
       "      <td>5</td>\n",
       "      <td>12</td>\n",
       "      <td>2</td>\n",
       "    </tr>\n",
       "    <tr>\n",
       "      <th>2</th>\n",
       "      <td>3</td>\n",
       "      <td>5</td>\n",
       "      <td>66</td>\n",
       "      <td>5</td>\n",
       "      <td>8</td>\n",
       "    </tr>\n",
       "    <tr>\n",
       "      <th>3</th>\n",
       "      <td>1</td>\n",
       "      <td>2</td>\n",
       "      <td>4</td>\n",
       "      <td>54</td>\n",
       "      <td>4</td>\n",
       "    </tr>\n",
       "    <tr>\n",
       "      <th>4</th>\n",
       "      <td>4</td>\n",
       "      <td>0</td>\n",
       "      <td>4</td>\n",
       "      <td>4</td>\n",
       "      <td>70</td>\n",
       "    </tr>\n",
       "  </tbody>\n",
       "</table>\n",
       "</div>"
      ],
      "text/plain": [
       "Predictions   0   1   2   3   4\n",
       "Actual                         \n",
       "0            80   5   6   2   0\n",
       "1             5  74   5  12   2\n",
       "2             3   5  66   5   8\n",
       "3             1   2   4  54   4\n",
       "4             4   0   4   4  70"
      ]
     },
     "execution_count": 82,
     "metadata": {},
     "output_type": "execute_result"
    }
   ],
   "source": [
    "crosstab = pd.crosstab(test[target], preds, rownames=[\"Actual\"], colnames=[\"Predictions\"])\n",
    "crosstab"
   ]
  },
  {
   "cell_type": "code",
   "execution_count": 83,
   "id": "f97186c5",
   "metadata": {},
   "outputs": [
    {
     "name": "stderr",
     "output_type": "stream",
     "text": [
      "C:\\Users\\Kevin\\AppData\\Local\\Temp/ipykernel_3412/3332716299.py:1: SettingWithCopyWarning: \n",
      "A value is trying to be set on a copy of a slice from a DataFrame.\n",
      "Try using .loc[row_indexer,col_indexer] = value instead\n",
      "\n",
      "See the caveats in the documentation: https://pandas.pydata.org/pandas-docs/stable/user_guide/indexing.html#returning-a-view-versus-a-copy\n",
      "  test[\"Forest_Pred\"] = preds\n"
     ]
    }
   ],
   "source": [
    "test[\"Forest_Pred\"] = preds"
   ]
  },
  {
   "cell_type": "code",
   "execution_count": 110,
   "id": "39db0042",
   "metadata": {},
   "outputs": [
    {
     "data": {
      "text/plain": [
       "Text(0, 0.5, 'Frecuencia de los grupos')"
      ]
     },
     "execution_count": 110,
     "metadata": {},
     "output_type": "execute_result"
    },
    {
     "data": {
      "image/png": "[encoded data removed]",
      "text/plain": [
       "<Figure size 1152x648 with 1 Axes>"
      ]
     },
     "metadata": {
      "needs_background": "light"
     },
     "output_type": "display_data"
    }
   ],
   "source": [
    "crosstab.plot(kind=\"bar\", figsize=(16,9))\n",
    "plt.title(\"Proporción de distribución respecto a predicción\")\n",
    "plt.xlabel(\"Grupos\")\n",
    "plt.ylabel(\"Frecuencia de los grupos\")"
   ]
  },
  {
   "cell_type": "markdown",
   "id": "34d0732b",
   "metadata": {},
   "source": [
    "**Conclusión:** Se observa que con el algritmo de Random Forest Classification, se puede obtener una presición del aproximada al 80%."
   ]
  },
  {
   "cell_type": "markdown",
   "id": "a7bb691b",
   "metadata": {},
   "source": [
    "### Predicting the test data set"
   ]
  },
  {
   "cell_type": "code",
   "execution_count": 128,
   "id": "8ea364e5",
   "metadata": {},
   "outputs": [],
   "source": [
    "df_test = pd.read_csv(\"../../Practice/1-Random Forest/Data Sets/j0002_X_test.csv\")"
   ]
  },
  {
   "cell_type": "code",
   "execution_count": 129,
   "id": "abe6354e",
   "metadata": {},
   "outputs": [
    {
     "data": {
      "text/html": [
       "<div>\n",
       "<style scoped>\n",
       "    .dataframe tbody tr th:only-of-type {\n",
       "        vertical-align: middle;\n",
       "    }\n",
       "\n",
       "    .dataframe tbody tr th {\n",
       "        vertical-align: top;\n",
       "    }\n",
       "\n",
       "    .dataframe thead th {\n",
       "        text-align: right;\n",
       "    }\n",
       "</style>\n",
       "<table border=\"1\" class=\"dataframe\">\n",
       "  <thead>\n",
       "    <tr style=\"text-align: right;\">\n",
       "      <th></th>\n",
       "      <th>feature1</th>\n",
       "      <th>feature2</th>\n",
       "      <th>feature3</th>\n",
       "      <th>feature4</th>\n",
       "      <th>feature5</th>\n",
       "      <th>feature6</th>\n",
       "    </tr>\n",
       "  </thead>\n",
       "  <tbody>\n",
       "    <tr>\n",
       "      <th>0</th>\n",
       "      <td>0.943723</td>\n",
       "      <td>-2.985473</td>\n",
       "      <td>-0.938218</td>\n",
       "      <td>3.580261</td>\n",
       "      <td>-3.038106</td>\n",
       "      <td>2.080338</td>\n",
       "    </tr>\n",
       "    <tr>\n",
       "      <th>1</th>\n",
       "      <td>-0.899819</td>\n",
       "      <td>1.295568</td>\n",
       "      <td>1.274513</td>\n",
       "      <td>0.718186</td>\n",
       "      <td>1.117035</td>\n",
       "      <td>0.463068</td>\n",
       "    </tr>\n",
       "    <tr>\n",
       "      <th>2</th>\n",
       "      <td>0.293281</td>\n",
       "      <td>-0.099317</td>\n",
       "      <td>1.874902</td>\n",
       "      <td>-0.589582</td>\n",
       "      <td>1.828441</td>\n",
       "      <td>1.011596</td>\n",
       "    </tr>\n",
       "    <tr>\n",
       "      <th>3</th>\n",
       "      <td>-1.134804</td>\n",
       "      <td>0.888585</td>\n",
       "      <td>-1.464499</td>\n",
       "      <td>-1.183056</td>\n",
       "      <td>-0.525729</td>\n",
       "      <td>-1.963822</td>\n",
       "    </tr>\n",
       "    <tr>\n",
       "      <th>4</th>\n",
       "      <td>-0.909240</td>\n",
       "      <td>1.575797</td>\n",
       "      <td>0.697212</td>\n",
       "      <td>1.197092</td>\n",
       "      <td>0.486185</td>\n",
       "      <td>0.222644</td>\n",
       "    </tr>\n",
       "  </tbody>\n",
       "</table>\n",
       "</div>"
      ],
      "text/plain": [
       "   feature1  feature2  feature3  feature4  feature5  feature6\n",
       "0  0.943723 -2.985473 -0.938218  3.580261 -3.038106  2.080338\n",
       "1 -0.899819  1.295568  1.274513  0.718186  1.117035  0.463068\n",
       "2  0.293281 -0.099317  1.874902 -0.589582  1.828441  1.011596\n",
       "3 -1.134804  0.888585 -1.464499 -1.183056 -0.525729 -1.963822\n",
       "4 -0.909240  1.575797  0.697212  1.197092  0.486185  0.222644"
      ]
     },
     "execution_count": 129,
     "metadata": {},
     "output_type": "execute_result"
    }
   ],
   "source": [
    "df_test.head()"
   ]
  },
  {
   "cell_type": "code",
   "execution_count": 130,
   "id": "d5827739",
   "metadata": {},
   "outputs": [
    {
     "data": {
      "text/plain": [
       "(900, 6)"
      ]
     },
     "execution_count": 130,
     "metadata": {},
     "output_type": "execute_result"
    }
   ],
   "source": [
    "df_test.shape"
   ]
  },
  {
   "cell_type": "code",
   "execution_count": 147,
   "id": "24ef506b",
   "metadata": {},
   "outputs": [],
   "source": [
    "pred = forest.predict(df_test)"
   ]
  },
  {
   "cell_type": "code",
   "execution_count": 148,
   "id": "3284b0ec",
   "metadata": {},
   "outputs": [],
   "source": [
    "results = pd.DataFrame(pred, columns=['Results'])  "
   ]
  },
  {
   "cell_type": "code",
   "execution_count": 149,
   "id": "fb92503a",
   "metadata": {},
   "outputs": [],
   "source": [
    "results.to_csv(\"../../Practice/1-Random Forest/results.csv\", index=False)"
   ]
  },
  {
   "cell_type": "code",
   "execution_count": 150,
   "id": "83e5fdb8",
   "metadata": {},
   "outputs": [],
   "source": [
    "results = pd.read_csv(\"../../Practice/1-Random Forest/results.csv\")"
   ]
  },
  {
   "cell_type": "code",
   "execution_count": 151,
   "id": "2f6a32fc",
   "metadata": {},
   "outputs": [
    {
     "data": {
      "text/html": [
       "<div>\n",
       "<style scoped>\n",
       "    .dataframe tbody tr th:only-of-type {\n",
       "        vertical-align: middle;\n",
       "    }\n",
       "\n",
       "    .dataframe tbody tr th {\n",
       "        vertical-align: top;\n",
       "    }\n",
       "\n",
       "    .dataframe thead th {\n",
       "        text-align: right;\n",
       "    }\n",
       "</style>\n",
       "<table border=\"1\" class=\"dataframe\">\n",
       "  <thead>\n",
       "    <tr style=\"text-align: right;\">\n",
       "      <th></th>\n",
       "      <th>Results</th>\n",
       "    </tr>\n",
       "  </thead>\n",
       "  <tbody>\n",
       "    <tr>\n",
       "      <th>0</th>\n",
       "      <td>1</td>\n",
       "    </tr>\n",
       "    <tr>\n",
       "      <th>1</th>\n",
       "      <td>3</td>\n",
       "    </tr>\n",
       "    <tr>\n",
       "      <th>2</th>\n",
       "      <td>2</td>\n",
       "    </tr>\n",
       "    <tr>\n",
       "      <th>3</th>\n",
       "      <td>0</td>\n",
       "    </tr>\n",
       "    <tr>\n",
       "      <th>4</th>\n",
       "      <td>3</td>\n",
       "    </tr>\n",
       "    <tr>\n",
       "      <th>...</th>\n",
       "      <td>...</td>\n",
       "    </tr>\n",
       "    <tr>\n",
       "      <th>895</th>\n",
       "      <td>3</td>\n",
       "    </tr>\n",
       "    <tr>\n",
       "      <th>896</th>\n",
       "      <td>4</td>\n",
       "    </tr>\n",
       "    <tr>\n",
       "      <th>897</th>\n",
       "      <td>0</td>\n",
       "    </tr>\n",
       "    <tr>\n",
       "      <th>898</th>\n",
       "      <td>3</td>\n",
       "    </tr>\n",
       "    <tr>\n",
       "      <th>899</th>\n",
       "      <td>4</td>\n",
       "    </tr>\n",
       "  </tbody>\n",
       "</table>\n",
       "<p>900 rows × 1 columns</p>\n",
       "</div>"
      ],
      "text/plain": [
       "     Results\n",
       "0          1\n",
       "1          3\n",
       "2          2\n",
       "3          0\n",
       "4          3\n",
       "..       ...\n",
       "895        3\n",
       "896        4\n",
       "897        0\n",
       "898        3\n",
       "899        4\n",
       "\n",
       "[900 rows x 1 columns]"
      ]
     },
     "execution_count": 151,
     "metadata": {},
     "output_type": "execute_result"
    }
   ],
   "source": [
    "results"
   ]
  },
  {
   "cell_type": "code",
   "execution_count": null,
   "id": "ccac18c3",
   "metadata": {},
   "outputs": [],
   "source": []
  }
 ],
 "metadata": {
  "kernelspec": {
   "display_name": "Python 3 (ipykernel)",
   "language": "python",
   "name": "python3"
  },
  "language_info": {
   "codemirror_mode": {
    "name": "ipython",
    "version": 3
   },
   "file_extension": ".py",
   "mimetype": "text/x-python",
   "name": "python",
   "nbconvert_exporter": "python",
   "pygments_lexer": "ipython3",
   "version": "3.9.7"
  }
 },
 "nbformat": 4,
 "nbformat_minor": 5
}
